{
 "cells": [
  {
   "cell_type": "code",
   "execution_count": 230,
   "metadata": {},
   "outputs": [],
   "source": [
    "import pandas as pd\n",
    "import numpy as np\n",
    "import openpyxl\n",
    "from openpyxl import load_workbook"
   ]
  },
  {
   "cell_type": "code",
   "execution_count": 231,
   "metadata": {},
   "outputs": [],
   "source": [
    "work_book = openpyxl.load_workbook('US_Airlines_DBs_2017_2016.xlsx')\n",
    "sheet = work_book['dataset']"
   ]
  },
  {
   "cell_type": "code",
   "execution_count": 232,
   "metadata": {},
   "outputs": [
    {
     "data": {
      "text/plain": [
       "'A1:I13'"
      ]
     },
     "execution_count": 232,
     "metadata": {},
     "output_type": "execute_result"
    }
   ],
   "source": [
    "sheet.calculate_dimension()"
   ]
  },
  {
   "cell_type": "code",
   "execution_count": 233,
   "metadata": {},
   "outputs": [],
   "source": [
    "from openpyxl.styles import numbers\n",
    "\n",
    "for row in sheet['B2:G13']:\n",
    "    for cell in row: \n",
    "        cell.value = int(cell.value)\n",
    "        cell.number_format = numbers.FORMAT_NUMBER"
   ]
  },
  {
   "cell_type": "code",
   "execution_count": 234,
   "metadata": {},
   "outputs": [],
   "source": [
    "from openpyxl.styles import PatternFill, colors\n",
    "from openpyxl.styles.differential import DifferentialStyle\n",
    "from openpyxl.formatting.rule import Rule\n",
    "from openpyxl.styles import Font, Color, colors"
   ]
  },
  {
   "cell_type": "code",
   "execution_count": 235,
   "metadata": {},
   "outputs": [],
   "source": [
    "red_background = PatternFill(bgColor = colors.COLOR_INDEX[2])\n",
    "diff_style = DifferentialStyle(fill = red_background, font = Font(color = colors.WHITE))\n",
    "passenger_rule = Rule(type=\"expression\", dxf = diff_style)"
   ]
  },
  {
   "cell_type": "code",
   "execution_count": 236,
   "metadata": {},
   "outputs": [],
   "source": [
    "passenger_rule.formula = [\"$F1<10000000\"]"
   ]
  },
  {
   "cell_type": "code",
   "execution_count": 237,
   "metadata": {},
   "outputs": [],
   "source": [
    "sheet.conditional_formatting.add('F2:F13', passenger_rule)"
   ]
  },
  {
   "cell_type": "code",
   "execution_count": 238,
   "metadata": {},
   "outputs": [],
   "source": [
    "from openpyxl.formatting.rule import ColorScaleRule"
   ]
  },
  {
   "cell_type": "code",
   "execution_count": 239,
   "metadata": {},
   "outputs": [],
   "source": [
    "for row in sheet['H2:I13']:\n",
    "    for cell in row: \n",
    "        cell.value = float(cell.value)\n",
    "        cell.number_format = numbers.FORMAT_NUMBER_COMMA_SEPARATED1"
   ]
  },
  {
   "cell_type": "code",
   "execution_count": 240,
   "metadata": {},
   "outputs": [],
   "source": [
    "color_scale_rule = ColorScaleRule(start_type = \"min\",\n",
    "                                 start_color = colors.COLOR_INDEX[5],\n",
    "                                 end_type = \"max\",\n",
    "                                 end_color = colors.COLOR_INDEX[6])"
   ]
  },
  {
   "cell_type": "code",
   "execution_count": 241,
   "metadata": {},
   "outputs": [],
   "source": [
    "sheet.conditional_formatting.add(\"H2:I13\", color_scale_rule)"
   ]
  },
  {
   "cell_type": "code",
   "execution_count": 242,
   "metadata": {},
   "outputs": [],
   "source": [
    "work_book.save('US_Airlines_DBs_2017_2016_formatted.xlsx')"
   ]
  },
  {
   "cell_type": "code",
   "execution_count": 243,
   "metadata": {},
   "outputs": [],
   "source": [
    "# Involutary Denied boarding Passengers bar chart"
   ]
  },
  {
   "cell_type": "code",
   "execution_count": 244,
   "metadata": {},
   "outputs": [],
   "source": [
    "from openpyxl.chart import BarChart, Reference"
   ]
  },
  {
   "cell_type": "code",
   "execution_count": 245,
   "metadata": {},
   "outputs": [],
   "source": [
    "bar_chart_1 = BarChart()\n",
    "bar_chart_2 = BarChart()"
   ]
  },
  {
   "cell_type": "code",
   "execution_count": 246,
   "metadata": {},
   "outputs": [],
   "source": [
    "bar_chart_1.type = \"col\"\n",
    "bar_chart_1.title = \"Involuntary Denied Boarding per US Airlines\"\n",
    "bar_chart_1.x_axis.title = \"Airline\"\n",
    "bar_chart_1.y_axis.title = \"Denied Boarding\"\n",
    "\n",
    "bar_chart_2.type = \"col\"\n",
    "bar_chart_2.title = \"Voluntary Denied Boarding per US Airlines\"\n",
    "bar_chart_2.x_axis.title = \"Airline\"\n",
    "bar_chart_2.y_axis.title = \"Denied Boarding\""
   ]
  },
  {
   "cell_type": "code",
   "execution_count": 247,
   "metadata": {},
   "outputs": [],
   "source": [
    "data1 = Reference(worksheet = sheet, min_row = 1,\n",
    "                max_row = sheet.max_row,\n",
    "                min_col = 4, max_col = 5)\n",
    "\n",
    "data2 = Reference(worksheet = sheet, min_row = 1,\n",
    "                max_row = sheet.max_row,\n",
    "                min_col = 2, max_col = 3)"
   ]
  },
  {
   "cell_type": "code",
   "execution_count": 248,
   "metadata": {},
   "outputs": [],
   "source": [
    "cats = Reference(worksheet = sheet, min_row = 2,\n",
    "                max_row = sheet.max_row, min_col = 1,\n",
    "                max_col = 1)"
   ]
  },
  {
   "cell_type": "code",
   "execution_count": 249,
   "metadata": {},
   "outputs": [],
   "source": [
    "bar_chart_1.add_data(data1, titles_from_data = True)\n",
    "bar_chart_2.add_data(data2, titles_from_data = True)"
   ]
  },
  {
   "cell_type": "code",
   "execution_count": 250,
   "metadata": {},
   "outputs": [],
   "source": [
    "bar_chart_1.set_categories(cats)\n",
    "bar_chart_2.set_categories(cats)"
   ]
  },
  {
   "cell_type": "code",
   "execution_count": 251,
   "metadata": {},
   "outputs": [],
   "source": [
    "bar_chart_1.width = 20\n",
    "bar_chart_1.height = 10\n",
    "\n",
    "bar_chart_2.width = 20\n",
    "bar_chart_2.height = 10"
   ]
  },
  {
   "cell_type": "code",
   "execution_count": 252,
   "metadata": {},
   "outputs": [],
   "source": [
    "sheet.add_chart(bar_chart_1, \"A16\")\n",
    "sheet.add_chart(bar_chart_2, \"G16\")"
   ]
  },
  {
   "cell_type": "code",
   "execution_count": 253,
   "metadata": {},
   "outputs": [],
   "source": [
    "work_book.save('US_Airlines_DBs_2017_2016_formatted.xlsx')"
   ]
  },
  {
   "cell_type": "code",
   "execution_count": 254,
   "metadata": {},
   "outputs": [],
   "source": [
    "# Add data into the dataset  "
   ]
  },
  {
   "cell_type": "code",
   "execution_count": 255,
   "metadata": {},
   "outputs": [],
   "source": [
    "path = 'US_Airlines_DBs_2017_2016_formatted.xlsx'\n",
    "book = load_workbook(path)\n",
    "writer = pd.ExcelWriter(path, engine = 'openpyxl')\n",
    "writer.book = book"
   ]
  },
  {
   "cell_type": "code",
   "execution_count": 256,
   "metadata": {},
   "outputs": [
    {
     "data": {
      "text/plain": [
       "(<Cell 'dataset'.A1>,\n",
       " <Cell 'dataset'.A2>,\n",
       " <Cell 'dataset'.A3>,\n",
       " <Cell 'dataset'.A4>,\n",
       " <Cell 'dataset'.A5>,\n",
       " <Cell 'dataset'.A6>,\n",
       " <Cell 'dataset'.A7>,\n",
       " <Cell 'dataset'.A8>,\n",
       " <Cell 'dataset'.A9>,\n",
       " <Cell 'dataset'.A10>,\n",
       " <Cell 'dataset'.A11>,\n",
       " <Cell 'dataset'.A12>,\n",
       " <Cell 'dataset'.A13>)"
      ]
     },
     "execution_count": 256,
     "metadata": {},
     "output_type": "execute_result"
    }
   ],
   "source": [
    "sheet['A']"
   ]
  },
  {
   "cell_type": "code",
   "execution_count": 257,
   "metadata": {},
   "outputs": [],
   "source": [
    "timeline_data = {}\n",
    "for i in range(2, sheet.max_row-1):\n",
    "    airline = sheet.cell(row = i, column = 1).value\n",
    "    passengers_17 = str(sheet.cell(row = i, column = 6).value)\n",
    "    passengers_16 = str(sheet.cell(row = i, column = 7).value)\n",
    "    timeline_data[airline] = [ int(passengers_16),  int(passengers_17) ]"
   ]
  },
  {
   "cell_type": "code",
   "execution_count": 258,
   "metadata": {},
   "outputs": [
    {
     "data": {
      "text/plain": [
       "{'DELTA AIR LINES': [97237060, 99796155],\n",
       " 'HAWAIIAN AIRLINES': [8154838, 8422734],\n",
       " 'VIRGIN AMERICA': [5927938, 6090029],\n",
       " 'UNITED AIRLINES': [64438132, 70303765],\n",
       " 'ALASKA AIRLINES': [17725197, 18817924],\n",
       " 'SKYWEST AIRLINES': [22575383, 24516354],\n",
       " 'FRONTIER AIRLINES': [10895052, 12059943],\n",
       " 'AMERICAN AIRLINES': [99348093, 98017132],\n",
       " 'JETBLUE AIRWAYS': [25990828, 27255038],\n",
       " 'SOUTHWEST AIRLINES': [112153048, 115988988]}"
      ]
     },
     "execution_count": 258,
     "metadata": {},
     "output_type": "execute_result"
    }
   ],
   "source": [
    "timeline_data"
   ]
  },
  {
   "cell_type": "code",
   "execution_count": 259,
   "metadata": {},
   "outputs": [],
   "source": [
    "df = pd.DataFrame(timeline_data, index = ['2016','2017'])"
   ]
  },
  {
   "cell_type": "code",
   "execution_count": 260,
   "metadata": {},
   "outputs": [
    {
     "data": {
      "text/html": [
       "<div>\n",
       "<style scoped>\n",
       "    .dataframe tbody tr th:only-of-type {\n",
       "        vertical-align: middle;\n",
       "    }\n",
       "\n",
       "    .dataframe tbody tr th {\n",
       "        vertical-align: top;\n",
       "    }\n",
       "\n",
       "    .dataframe thead th {\n",
       "        text-align: right;\n",
       "    }\n",
       "</style>\n",
       "<table border=\"1\" class=\"dataframe\">\n",
       "  <thead>\n",
       "    <tr style=\"text-align: right;\">\n",
       "      <th></th>\n",
       "      <th>DELTA AIR LINES</th>\n",
       "      <th>HAWAIIAN AIRLINES</th>\n",
       "      <th>VIRGIN AMERICA</th>\n",
       "      <th>UNITED AIRLINES</th>\n",
       "      <th>ALASKA AIRLINES</th>\n",
       "      <th>SKYWEST AIRLINES</th>\n",
       "      <th>FRONTIER AIRLINES</th>\n",
       "      <th>AMERICAN AIRLINES</th>\n",
       "      <th>JETBLUE AIRWAYS</th>\n",
       "      <th>SOUTHWEST AIRLINES</th>\n",
       "    </tr>\n",
       "  </thead>\n",
       "  <tbody>\n",
       "    <tr>\n",
       "      <th>2016</th>\n",
       "      <td>97237060</td>\n",
       "      <td>8154838</td>\n",
       "      <td>5927938</td>\n",
       "      <td>64438132</td>\n",
       "      <td>17725197</td>\n",
       "      <td>22575383</td>\n",
       "      <td>10895052</td>\n",
       "      <td>99348093</td>\n",
       "      <td>25990828</td>\n",
       "      <td>112153048</td>\n",
       "    </tr>\n",
       "    <tr>\n",
       "      <th>2017</th>\n",
       "      <td>99796155</td>\n",
       "      <td>8422734</td>\n",
       "      <td>6090029</td>\n",
       "      <td>70303765</td>\n",
       "      <td>18817924</td>\n",
       "      <td>24516354</td>\n",
       "      <td>12059943</td>\n",
       "      <td>98017132</td>\n",
       "      <td>27255038</td>\n",
       "      <td>115988988</td>\n",
       "    </tr>\n",
       "  </tbody>\n",
       "</table>\n",
       "</div>"
      ],
      "text/plain": [
       "      DELTA AIR LINES  HAWAIIAN AIRLINES  VIRGIN AMERICA  UNITED AIRLINES  \\\n",
       "2016         97237060            8154838         5927938         64438132   \n",
       "2017         99796155            8422734         6090029         70303765   \n",
       "\n",
       "      ALASKA AIRLINES  SKYWEST AIRLINES  FRONTIER AIRLINES  AMERICAN AIRLINES  \\\n",
       "2016         17725197          22575383           10895052           99348093   \n",
       "2017         18817924          24516354           12059943           98017132   \n",
       "\n",
       "      JETBLUE AIRWAYS  SOUTHWEST AIRLINES  \n",
       "2016         25990828           112153048  \n",
       "2017         27255038           115988988  "
      ]
     },
     "execution_count": 260,
     "metadata": {},
     "output_type": "execute_result"
    }
   ],
   "source": [
    "df"
   ]
  },
  {
   "cell_type": "code",
   "execution_count": 261,
   "metadata": {},
   "outputs": [],
   "source": [
    "df.to_excel(writer, sheet_name = 'enplanned_passengers')\n",
    "writer.save()\n",
    "writer.close()"
   ]
  },
  {
   "cell_type": "code",
   "execution_count": 262,
   "metadata": {},
   "outputs": [],
   "source": [
    "# Enplanned Passengers line chart  "
   ]
  },
  {
   "cell_type": "code",
   "execution_count": 263,
   "metadata": {},
   "outputs": [],
   "source": [
    "from openpyxl.chart import LineChart, Reference"
   ]
  },
  {
   "cell_type": "code",
   "execution_count": 264,
   "metadata": {},
   "outputs": [],
   "source": [
    "book = openpyxl.load_workbook('US_Airlines_DBs_2017_2016_formatted.xlsx')\n",
    "sheet = book['enplanned_passengers']"
   ]
  },
  {
   "cell_type": "code",
   "execution_count": 265,
   "metadata": {},
   "outputs": [],
   "source": [
    "chart = LineChart()"
   ]
  },
  {
   "cell_type": "code",
   "execution_count": 266,
   "metadata": {},
   "outputs": [],
   "source": [
    "values = Reference(sheet, min_col = 2, min_row = 1, max_col = sheet.max_column,\n",
    "                  max_row = sheet.max_row)"
   ]
  },
  {
   "cell_type": "code",
   "execution_count": 267,
   "metadata": {},
   "outputs": [],
   "source": [
    "chart.add_data(values, titles_from_data = True)"
   ]
  },
  {
   "cell_type": "code",
   "execution_count": 268,
   "metadata": {},
   "outputs": [],
   "source": [
    "chart.title = \"Enplanned Passengers per US Airlines\"\n",
    "chart.x_axis.title = \"Year\"\n",
    "chart.y_axis.title = \"Enplanned passengers\"\n",
    "chart.style = 10\n",
    "chart.width = 25\n",
    "chart.height = 12.5"
   ]
  },
  {
   "cell_type": "code",
   "execution_count": 269,
   "metadata": {},
   "outputs": [],
   "source": [
    "dates = Reference(sheet, min_col = 1, min_row = 2,\n",
    "                  max_col = 1, max_row = sheet.max_row)"
   ]
  },
  {
   "cell_type": "code",
   "execution_count": 270,
   "metadata": {},
   "outputs": [],
   "source": [
    "chart.set_categories(dates)"
   ]
  },
  {
   "cell_type": "code",
   "execution_count": 271,
   "metadata": {},
   "outputs": [],
   "source": [
    "styles = [\n",
    "\"FF7F50\",\n",
    "\"FF4500\",\n",
    "\"FFA500\",\n",
    "\"FF1493\",\n",
    "\"8B0000\",\n",
    "\"FFD700\",\n",
    "\"FF00FF\",\n",
    "\"663399\",\n",
    "\"32CD32\",\n",
    "\"00FFFF\"\n",
    "]"
   ]
  },
  {
   "cell_type": "code",
   "execution_count": 272,
   "metadata": {},
   "outputs": [
    {
     "data": {
      "text/plain": [
       "10"
      ]
     },
     "execution_count": 272,
     "metadata": {},
     "output_type": "execute_result"
    }
   ],
   "source": [
    "len(chart.series)"
   ]
  },
  {
   "cell_type": "code",
   "execution_count": 273,
   "metadata": {},
   "outputs": [],
   "source": [
    "i = 0\n",
    "for s in chart.series:\n",
    "    s.marker.symbol = \"triangle\"\n",
    "    s.marker.graphicalProperties.solidFill = styles[i]\n",
    "    s.marker.graphicalProperties.line.solidFill = styles[i]\n",
    "        \n",
    "    s.graphicalProperties.line.solidFill = styles[i]\n",
    "    s.graphicalProperties.line.dashStyle = \"solid\"\n",
    "    s.smooth = True\n",
    "    \n",
    "    i = i + 1 "
   ]
  },
  {
   "cell_type": "code",
   "execution_count": 274,
   "metadata": {},
   "outputs": [],
   "source": [
    "sheet.add_chart(chart, \"B5\")"
   ]
  },
  {
   "cell_type": "code",
   "execution_count": 275,
   "metadata": {},
   "outputs": [],
   "source": [
    "book.save('US_Airlines_DBs_2017_2016_formatted.xlsx')"
   ]
  },
  {
   "cell_type": "code",
   "execution_count": null,
   "metadata": {},
   "outputs": [],
   "source": []
  }
 ],
 "metadata": {
  "kernelspec": {
   "display_name": "Python 3.7 (tensorflow)",
   "language": "python",
   "name": "tensorflow"
  },
  "language_info": {
   "codemirror_mode": {
    "name": "ipython",
    "version": 3
   },
   "file_extension": ".py",
   "mimetype": "text/x-python",
   "name": "python",
   "nbconvert_exporter": "python",
   "pygments_lexer": "ipython3",
   "version": "3.7.7"
  }
 },
 "nbformat": 4,
 "nbformat_minor": 4
}
